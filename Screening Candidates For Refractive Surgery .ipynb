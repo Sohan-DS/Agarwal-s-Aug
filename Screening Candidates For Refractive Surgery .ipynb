{
 "cells": [
  {
   "cell_type": "code",
   "execution_count": 22,
   "id": "d3df7908",
   "metadata": {},
   "outputs": [
    {
     "name": "stdout",
     "output_type": "stream",
     "text": [
      "Enter Thinnest of the cornea: 500\n",
      "Refractive Surgery Needed\n"
     ]
    }
   ],
   "source": [
    "num1 = int(input(\"Enter Thinnest of the cornea: \"))\n",
    "if (num1 >= 450):\n",
    "  print(\"Refractive Surgery Needed\")\n",
    "\n",
    "else:\n",
    "    print(\"Refractive Surgery Not Needed\")\n"
   ]
  },
  {
   "cell_type": "code",
   "execution_count": null,
   "id": "ed6e570b",
   "metadata": {},
   "outputs": [],
   "source": []
  }
 ],
 "metadata": {
  "kernelspec": {
   "display_name": "Python 3 (ipykernel)",
   "language": "python",
   "name": "python3"
  },
  "language_info": {
   "codemirror_mode": {
    "name": "ipython",
    "version": 3
   },
   "file_extension": ".py",
   "mimetype": "text/x-python",
   "name": "python",
   "nbconvert_exporter": "python",
   "pygments_lexer": "ipython3",
   "version": "3.10.9"
  }
 },
 "nbformat": 4,
 "nbformat_minor": 5
}
